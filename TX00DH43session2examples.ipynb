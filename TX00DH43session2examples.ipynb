{
 "cells": [
  {
   "cell_type": "code",
   "execution_count": 1,
   "id": "aggregate-junior",
   "metadata": {},
   "outputs": [],
   "source": [
    "import numpy as np\n",
    "import matplotlib.pyplot as plt\n",
    "import math\n",
    "import tensorflow as tf\n",
    "from tensorflow import keras\n",
    "from tensorflow.keras import layers"
   ]
  },
  {
   "cell_type": "markdown",
   "id": "unnecessary-affairs",
   "metadata": {},
   "source": [
    "## Forward pass\n",
    "\n",
    "For demonstration purposes we define a simple network, fix its weights and see what is the result of the forward pass. We'll also implement the forward pass with numpy."
   ]
  },
  {
   "cell_type": "code",
   "execution_count": 2,
   "id": "other-tutorial",
   "metadata": {},
   "outputs": [
    {
     "name": "stdout",
     "output_type": "stream",
     "text": [
      "Initial weights:\n",
      "[array([[-0.42822087],\n",
      "       [ 1.0311383 ],\n",
      "       [-0.8943485 ]], dtype=float32), array([0.], dtype=float32)]\n",
      "Weights after set_weights():\n",
      "[array([[1.],\n",
      "       [2.],\n",
      "       [3.]], dtype=float32), array([-4.9], dtype=float32)]\n",
      "Result of forward pass:\n",
      "tf.Tensor([[0.5249792]], shape=(1, 1), dtype=float32)\n",
      "Numpy implementation for forward pass\n",
      "Design matrix X:\n",
      "[1. 2. 0. 1.]\n",
      "Weights w:\n",
      "[-4.9  1.   2.   3. ]\n",
      "Linear part result:\n",
      "0.09999990463256836\n",
      "After applying activation function:\n",
      "0.5249791636965875\n"
     ]
    }
   ],
   "source": [
    "model = keras.Sequential()\n",
    "model.add(layers.Dense(1, input_shape=(3,), activation='sigmoid'))\n",
    "\n",
    "W = model.layers[0].get_weights() # this gives us the weights for layer 0 (ie. the only layer in the network)\n",
    "print(\"Initial weights:\")\n",
    "print(W) # the weights are random numbers close to 0.0\n",
    "\n",
    "# let's set weight values\n",
    "W[0][0] = 1.\n",
    "W[0][1] = 2.\n",
    "W[0][2] = 3.\n",
    "W[1][0] = -4.9\n",
    "model.layers[0].set_weights(W)\n",
    "print(\"Weights after set_weights():\")\n",
    "print(model.layers[0].get_weights()) # verify that the weights have been set\n",
    "\n",
    "input_sample = np.array(([2,0,1],), dtype=np.float32) # input sample\n",
    "\n",
    "print(\"Result of forward pass:\")\n",
    "# forward propagation with input sample converted to tensorflow tensor (details of tensorflow skipped here)\n",
    "print(model.call(tf.convert_to_tensor(input_sample))) \n",
    "\n",
    "# do the same thing with numpy\n",
    "\n",
    "X = np.column_stack((np.ones((1,)),input_sample))[0]\n",
    "w = np.column_stack((W[1], W[0].T))[0]\n",
    "\n",
    "print(\"Numpy implementation for forward pass\")\n",
    "print(\"Design matrix X:\")\n",
    "print(X)\n",
    "print(\"Weights w:\")\n",
    "print(w)\n",
    "z = np.dot(w.T,X) # inner product \n",
    "print(\"Linear part result:\")\n",
    "print(z)\n",
    "y = 1 / (1 + np.exp(-z)) # sigmoid function\n",
    "print(\"After applying activation function:\")\n",
    "print(y)"
   ]
  },
  {
   "cell_type": "markdown",
   "id": "gothic-content",
   "metadata": {},
   "source": [
    "## Function approximation"
   ]
  },
  {
   "cell_type": "code",
   "execution_count": 3,
   "id": "angry-calgary",
   "metadata": {},
   "outputs": [
    {
     "data": {
      "image/png": "[encoded data removed]",
      "text/plain": [
       "<Figure size 432x288 with 1 Axes>"
      ]
     },
     "metadata": {
      "needs_background": "light"
     },
     "output_type": "display_data"
    }
   ],
   "source": [
    "# Create data set\n",
    "\n",
    "N = 200\n",
    "x = np.linspace(0,1,N)\n",
    "y = 4 + 4 * x * x * np.sin(6 * 3.14 * x) + np.random.normal(0,0.05,N)\n",
    "\n",
    "plt.plot(x,y)\n",
    "plt.show()"
   ]
  },
  {
   "cell_type": "markdown",
   "id": "second-frederick",
   "metadata": {},
   "source": [
    "#### Create model\n",
    "\n",
    "Here we don't have a linear case, so for sure more complicated model is needed. We'll stack multiple wide layers and use nonlinear activation function tanh in the hidden layers. To allow the model to make predictions in a wide range, no activation function is specified for the last layer (if we'd used tanh there, the range of predictions would be restricted to -1..1)."
   ]
  },
  {
   "cell_type": "code",
   "execution_count": 4,
   "id": "forty-system",
   "metadata": {},
   "outputs": [
    {
     "name": "stdout",
     "output_type": "stream",
     "text": [
      "Model: \"sequential_1\"\n",
      "_________________________________________________________________\n",
      "Layer (type)                 Output Shape              Param #   \n",
      "=================================================================\n",
      "dense_1 (Dense)              (None, 100)               200       \n",
      "_________________________________________________________________\n",
      "dense_2 (Dense)              (None, 100)               10100     \n",
      "_________________________________________________________________\n",
      "dense_3 (Dense)              (None, 100)               10100     \n",
      "_________________________________________________________________\n",
      "dense_4 (Dense)              (None, 100)               10100     \n",
      "_________________________________________________________________\n",
      "dense_5 (Dense)              (None, 100)               10100     \n",
      "_________________________________________________________________\n",
      "dense_6 (Dense)              (None, 1)                 101       \n",
      "=================================================================\n",
      "Total params: 40,701\n",
      "Trainable params: 40,701\n",
      "Non-trainable params: 0\n",
      "_________________________________________________________________\n"
     ]
    },
    {
     "data": {
      "text/plain": [
       "<tensorflow.python.keras.callbacks.History at 0x7f9010e73430>"
      ]
     },
     "execution_count": 4,
     "metadata": {},
     "output_type": "execute_result"
    }
   ],
   "source": [
    "model = keras.models.Sequential()\n",
    "model.add(keras.layers.Dense(100, input_shape=(1,), activation='tanh'))\n",
    "model.add(keras.layers.Dense(100, activation='tanh'))\n",
    "model.add(keras.layers.Dense(100, activation='tanh'))\n",
    "model.add(keras.layers.Dense(100, activation='tanh'))\n",
    "model.add(keras.layers.Dense(100, activation='tanh'))\n",
    "model.add(keras.layers.Dense(1))\n",
    "\n",
    "model.summary()\n",
    "\n",
    "model.compile(optimizer='adam', loss='mse')\n",
    "\n",
    "model.fit(x,y,epochs=400,batch_size=16,verbose=0)"
   ]
  },
  {
   "cell_type": "markdown",
   "id": "personal-denmark",
   "metadata": {},
   "source": [
    "#### Compare model predictions with data\n",
    "\n",
    "The predictions indicate that the model is capable of following the data quite well. The fit could be improved by using more layers / wider layers, and possibly higher number of epochs."
   ]
  },
  {
   "cell_type": "code",
   "execution_count": 5,
   "id": "comprehensive-release",
   "metadata": {},
   "outputs": [
    {
     "data": {
      "image/png": "[encoded data removed]",
      "text/plain": [
       "<Figure size 432x288 with 1 Axes>"
      ]
     },
     "metadata": {
      "needs_background": "light"
     },
     "output_type": "display_data"
    }
   ],
   "source": [
    "xs = np.linspace(0,1,300)\n",
    "plt.plot(x, y, 'o', alpha=0.5, label='Data')\n",
    "plt.plot(xs, model.predict(xs), label=\"Model\")\n",
    "plt.legend()\n",
    "plt.show()"
   ]
  },
  {
   "cell_type": "markdown",
   "id": "further-shore",
   "metadata": {},
   "source": [
    "#### Extrapolation\n",
    "\n",
    "Model looked quite good, so let's see if it can be used for making predictions for x values > 1. The answer is no - it is not capturing the function used for creating the data."
   ]
  },
  {
   "cell_type": "code",
   "execution_count": 6,
   "id": "involved-mining",
   "metadata": {},
   "outputs": [
    {
     "data": {
      "image/png": "[encoded data removed]",
      "text/plain": [
       "<Figure size 432x288 with 1 Axes>"
      ]
     },
     "metadata": {
      "needs_background": "light"
     },
     "output_type": "display_data"
    }
   ],
   "source": [
    "# Create data set\n",
    "\n",
    "N = 200\n",
    "x = np.linspace(0,2,N)\n",
    "y = 4 + 4 * x * x * np.sin(6 * 3.14 * x) + np.random.normal(0,0.05,N)\n",
    "\n",
    "xs = np.linspace(0,2,300)\n",
    "plt.plot(x, y, 'o', alpha=0.5, label='Data')\n",
    "plt.plot(xs, model.predict(xs), label=\"Model\")\n",
    "plt.show()"
   ]
  },
  {
   "cell_type": "markdown",
   "id": "legislative-spirit",
   "metadata": {},
   "source": [
    "## Simple network for Boston housing dataset"
   ]
  },
  {
   "cell_type": "code",
   "execution_count": 7,
   "id": "removed-digest",
   "metadata": {},
   "outputs": [
    {
     "name": "stdout",
     "output_type": "stream",
     "text": [
      "x_train, y_train shapes:\n",
      "(404, 13) (404,)\n",
      "x_test, y_test shapes:\n",
      "(102, 13) (102,)\n",
      "Training sample 78:\n",
      "[1.7171e-01 2.5000e+01 5.1300e+00 0.0000e+00 4.5300e-01 5.9660e+00\n",
      " 9.3400e+01 6.8185e+00 8.0000e+00 2.8400e+02 1.9700e+01 3.7808e+02\n",
      " 1.4440e+01]\n",
      "16.0\n",
      "Mean x_train values:\n",
      "[3.74511057e+00 1.14801980e+01 1.11044307e+01 6.18811881e-02\n",
      " 5.57355941e-01 6.26708168e+00 6.90106436e+01 3.74027079e+00\n",
      " 9.44059406e+00 4.05898515e+02 1.84759901e+01 3.54783168e+02\n",
      " 1.27408168e+01]\n",
      "Std x_train values:\n",
      "[9.22929073e+00 2.37382770e+01 6.80287253e+00 2.40939633e-01\n",
      " 1.17147847e-01 7.08908627e-01 2.79060634e+01 2.02770050e+00\n",
      " 8.68758849e+00 1.66168506e+02 2.19765689e+00 9.39946015e+01\n",
      " 7.24556085e+00]\n",
      "Mean x_train values after standardisation:\n",
      "[-1.01541438e-16  1.09923072e-17  1.74337992e-15 -1.26686340e-16\n",
      " -5.25377321e-15  6.41414864e-15  2.98441140e-16  4.94653823e-16\n",
      "  1.12671149e-17 -1.98136337e-16  2.36686358e-14  5.95679996e-15\n",
      "  6.13920356e-16]\n",
      "Std x_train values after standardisation:\n",
      "[1. 1. 1. 1. 1. 1. 1. 1. 1. 1. 1. 1. 1.]\n",
      "Mean x_train values after standardisation with StandardScaler:\n",
      "[-1.01541438e-16  1.09923072e-17  1.74337992e-15 -1.26686340e-16\n",
      " -5.25377321e-15  6.41414864e-15  2.98441140e-16  4.94653823e-16\n",
      "  1.12671149e-17 -1.98136337e-16  2.36686358e-14  5.95679996e-15\n",
      "  6.13920356e-16]\n",
      "Std x_train values after standardisation with StandardScaler:\n",
      "[1. 1. 1. 1. 1. 1. 1. 1. 1. 1. 1. 1. 1.]\n"
     ]
    }
   ],
   "source": [
    "(x_train, y_train), (x_test, y_test) = keras.datasets.boston_housing.load_data()\n",
    "\n",
    "print(\"x_train, y_train shapes:\")\n",
    "print(x_train.shape, y_train.shape)\n",
    "print(\"x_test, y_test shapes:\")\n",
    "print(x_test.shape, y_test.shape)\n",
    "\n",
    "print(\"Training sample 78:\")\n",
    "print(x_train[78])\n",
    "print(y_train[78])\n",
    "\n",
    "mean = np.mean(x_train, axis=0)\n",
    "print(\"Mean x_train values:\")\n",
    "print(mean)\n",
    "\n",
    "std = np.std(x_train, axis=0)\n",
    "print(\"Std x_train values:\")\n",
    "print(std)\n",
    "\n",
    "x_train_stan = x_train - mean\n",
    "x_train_stan = x_train_stan / std\n",
    "\n",
    "x_test_stan = x_test / mean\n",
    "x_test_stan = x_test_stan / std\n",
    "\n",
    "print(\"Mean x_train values after standardisation:\")\n",
    "print(np.mean(x_train_stan, axis=0))\n",
    "print(\"Std x_train values after standardisation:\")\n",
    "print(np.std(x_train_stan, axis=0))\n",
    "\n",
    "# install package scikit-learn to run the next statements\n",
    "# note: this is alternative way of doing standardisation\n",
    "from sklearn.preprocessing import StandardScaler\n",
    "scaler = StandardScaler().fit(x_train)\n",
    "\n",
    "x_train_ss = scaler.transform(x_train)\n",
    "x_test_ss = scaler.transform(x_test)\n",
    "\n",
    "print(\"Mean x_train values after standardisation with StandardScaler:\")\n",
    "print(np.mean(x_train_ss, axis=0))\n",
    "print(\"Std x_train values after standardisation with StandardScaler:\")\n",
    "print(np.std(x_train_ss, axis=0))"
   ]
  },
  {
   "cell_type": "markdown",
   "id": "prospective-motion",
   "metadata": {},
   "source": [
    "## Network model"
   ]
  },
  {
   "cell_type": "code",
   "execution_count": 8,
   "id": "economic-english",
   "metadata": {},
   "outputs": [],
   "source": [
    "model1 = keras.Sequential()\n",
    "model1.add(layers.Dense(1, input_shape=(13,), activation='relu'))\n",
    "\n",
    "model1.compile(loss='mse', optimizer='sgd')"
   ]
  },
  {
   "cell_type": "markdown",
   "id": "collect-budget",
   "metadata": {},
   "source": [
    "## Training the model"
   ]
  },
  {
   "cell_type": "code",
   "execution_count": 9,
   "id": "sealed-guard",
   "metadata": {
    "scrolled": true
   },
   "outputs": [
    {
     "name": "stdout",
     "output_type": "stream",
     "text": [
      "Epoch 1/30\n",
      "13/13 [==============================] - 1s 57ms/step - loss: 481.2940 - val_loss: 317.2825\n",
      "Epoch 2/30\n",
      "13/13 [==============================] - 0s 4ms/step - loss: 289.3673 - val_loss: 211.5484\n",
      "Epoch 3/30\n",
      "13/13 [==============================] - 0s 4ms/step - loss: 189.8046 - val_loss: 170.9140\n",
      "Epoch 4/30\n",
      "13/13 [==============================] - 0s 3ms/step - loss: 178.3435 - val_loss: 149.6194\n",
      "Epoch 5/30\n",
      "13/13 [==============================] - 0s 3ms/step - loss: 168.1182 - val_loss: 136.0086\n",
      "Epoch 6/30\n",
      "13/13 [==============================] - 0s 3ms/step - loss: 146.1741 - val_loss: 125.7832\n",
      "Epoch 7/30\n",
      "13/13 [==============================] - 0s 4ms/step - loss: 121.0214 - val_loss: 118.6785\n",
      "Epoch 8/30\n",
      "13/13 [==============================] - 0s 3ms/step - loss: 127.7973 - val_loss: 113.2902\n",
      "Epoch 9/30\n",
      "13/13 [==============================] - 0s 3ms/step - loss: 94.2233 - val_loss: 109.2455\n",
      "Epoch 10/30\n",
      "13/13 [==============================] - 0s 3ms/step - loss: 102.5237 - val_loss: 106.2128\n",
      "Epoch 11/30\n",
      "13/13 [==============================] - 0s 4ms/step - loss: 100.4051 - val_loss: 103.8877\n",
      "Epoch 12/30\n",
      "13/13 [==============================] - 0s 3ms/step - loss: 112.8559 - val_loss: 101.4607\n",
      "Epoch 13/30\n",
      "13/13 [==============================] - 0s 3ms/step - loss: 115.3335 - val_loss: 99.1361\n",
      "Epoch 14/30\n",
      "13/13 [==============================] - 0s 3ms/step - loss: 109.8086 - val_loss: 96.3546\n",
      "Epoch 15/30\n",
      "13/13 [==============================] - 0s 4ms/step - loss: 89.3577 - val_loss: 92.5019\n",
      "Epoch 16/30\n",
      "13/13 [==============================] - 0s 4ms/step - loss: 98.3655 - val_loss: 87.3932\n",
      "Epoch 17/30\n",
      "13/13 [==============================] - 0s 3ms/step - loss: 97.5838 - val_loss: 81.5543\n",
      "Epoch 18/30\n",
      "13/13 [==============================] - 0s 4ms/step - loss: 76.8747 - val_loss: 73.0893\n",
      "Epoch 19/30\n",
      "13/13 [==============================] - 0s 4ms/step - loss: 77.2030 - val_loss: 63.1030\n",
      "Epoch 20/30\n",
      "13/13 [==============================] - 0s 4ms/step - loss: 68.9940 - val_loss: 54.6616\n",
      "Epoch 21/30\n",
      "13/13 [==============================] - 0s 4ms/step - loss: 68.6378 - val_loss: 47.1081\n",
      "Epoch 22/30\n",
      "13/13 [==============================] - 0s 4ms/step - loss: 55.4374 - val_loss: 41.7799\n",
      "Epoch 23/30\n",
      "13/13 [==============================] - 0s 3ms/step - loss: 47.6916 - val_loss: 37.6661\n",
      "Epoch 24/30\n",
      "13/13 [==============================] - 0s 3ms/step - loss: 33.9900 - val_loss: 35.5711\n",
      "Epoch 25/30\n",
      "13/13 [==============================] - 0s 4ms/step - loss: 44.6260 - val_loss: 32.3122\n",
      "Epoch 26/30\n",
      "13/13 [==============================] - 0s 3ms/step - loss: 32.0349 - val_loss: 30.8988\n",
      "Epoch 27/30\n",
      "13/13 [==============================] - 0s 3ms/step - loss: 30.0151 - val_loss: 28.7901\n",
      "Epoch 28/30\n",
      "13/13 [==============================] - 0s 4ms/step - loss: 28.8648 - val_loss: 27.3106\n",
      "Epoch 29/30\n",
      "13/13 [==============================] - 0s 3ms/step - loss: 33.0355 - val_loss: 26.4497\n",
      "Epoch 30/30\n",
      "13/13 [==============================] - 0s 3ms/step - loss: 30.3593 - val_loss: 25.3701\n"
     ]
    }
   ],
   "source": [
    "n_epochs = 30\n",
    "hist1 = model1.fit(x_train_ss, y_train, epochs=n_epochs, batch_size = 32, validation_data=(x_test_ss, y_test))"
   ]
  },
  {
   "cell_type": "markdown",
   "id": "buried-experience",
   "metadata": {},
   "source": [
    "## Plotting training/validation loss"
   ]
  },
  {
   "cell_type": "code",
   "execution_count": 10,
   "id": "norwegian-certificate",
   "metadata": {},
   "outputs": [
    {
     "data": {
      "image/png": "[encoded data removed]",
      "text/plain": [
       "<Figure size 864x216 with 2 Axes>"
      ]
     },
     "metadata": {
      "needs_background": "light"
     },
     "output_type": "display_data"
    }
   ],
   "source": [
    "f = plt.figure(figsize=(12,3))\n",
    "\n",
    "f1 = f.add_subplot(121)\n",
    "f2 = f.add_subplot(122)\n",
    "\n",
    "f1.plot(hist1.history['loss'], label=\"Training loss\")\n",
    "f1.plot(hist1.history['val_loss'], label=\"Validation loss\")\n",
    "f1.legend()\n",
    "\n",
    "# make another plot with different scale\n",
    "f2.set_ylim([0, 100])\n",
    "f2.plot(hist1.history['loss'], label=\"Training loss\")\n",
    "f2.plot(hist1.history['val_loss'], label=\"Validation loss\")\n",
    "f2.legend()\n",
    "\n",
    "plt.show()"
   ]
  }
 ],
 "metadata": {
  "kernelspec": {
   "display_name": "Python 3",
   "language": "python",
   "name": "python3"
  },
  "language_info": {
   "codemirror_mode": {
    "name": "ipython",
    "version": 3
   },
   "file_extension": ".py",
   "mimetype": "text/x-python",
   "name": "python",
   "nbconvert_exporter": "python",
   "pygments_lexer": "ipython3",
   "version": "3.8.8"
  }
 },
 "nbformat": 4,
 "nbformat_minor": 5
}
